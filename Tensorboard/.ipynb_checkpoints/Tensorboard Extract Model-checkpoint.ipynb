{
 "cells": [
  {
   "cell_type": "code",
   "execution_count": 1,
   "metadata": {
    "ExecuteTime": {
     "end_time": "2019-07-20T02:22:33.629533Z",
     "start_time": "2019-07-20T02:22:33.578494Z"
    }
   },
   "outputs": [],
   "source": [
    " %load_ext autoreload"
   ]
  },
  {
   "cell_type": "code",
   "execution_count": 2,
   "metadata": {
    "ExecuteTime": {
     "end_time": "2019-07-20T02:22:36.719786Z",
     "start_time": "2019-07-20T02:22:35.300859Z"
    }
   },
   "outputs": [],
   "source": [
    "import torch\n",
    "import torchvision\n",
    "from torch.utils.tensorboard import SummaryWriter\n",
    "from torchvision import datasets,transforms\n",
    "import numpy as np\n",
    "import matplotlib.pyplot as plt\n",
    "import os\n",
    "import re\n",
    "import sys\n",
    "import ipywidgets as widgets\n",
    "from ipywidgets import interact, interact_manual\n",
    "from visdom import Visdom"
   ]
  },
  {
   "cell_type": "markdown",
   "metadata": {},
   "source": [
    "# Function"
   ]
  },
  {
   "cell_type": "code",
   "execution_count": 3,
   "metadata": {
    "ExecuteTime": {
     "end_time": "2019-07-20T02:22:36.726092Z",
     "start_time": "2019-07-20T02:22:36.722732Z"
    }
   },
   "outputs": [],
   "source": [
    "path_folder = '/home/etienne/Desktop/Shark_Detector/Models/SPN/experiments'\n",
    "path_tensorboard = '/home/etienne/Desktop/Shark_Detector/Tensorboard'"
   ]
  },
  {
   "cell_type": "code",
   "execution_count": 4,
   "metadata": {
    "ExecuteTime": {
     "end_time": "2019-07-20T02:22:36.931436Z",
     "start_time": "2019-07-20T02:22:36.907042Z"
    }
   },
   "outputs": [],
   "source": [
    "def load_model(expname) :\n",
    "    print('Loading : {}'.format(expname))\n",
    "    pattern = '(?<=epoch_)(\\d+)'\n",
    "    natural_keys = lambda s: int(re.search(pattern, s).group(0))\n",
    "    files = os.listdir(os.path.join(path_folder,expname,'models/'))\n",
    "    files.sort(key=natural_keys)\n",
    "    filename = files[-1]\n",
    "    checkpoint = torch.load(os.path.join(path_folder,expname,'models',filename))\n",
    "    sys.path.insert(0,os.path.join(path_folder,expname,'code','sample'))\n",
    "    try : \n",
    "        from SPN import SPN\n",
    "        net = SPN()\n",
    "        net.load_state_dict(checkpoint['model'])\n",
    "    except :\n",
    "        pass\n",
    "    sys.path.remove(os.path.join(path_folder,expname,'code','sample'))\n",
    "    return net, filename"
   ]
  },
  {
   "cell_type": "code",
   "execution_count": 5,
   "metadata": {
    "ExecuteTime": {
     "end_time": "2019-07-20T02:22:39.188307Z",
     "start_time": "2019-07-20T02:22:39.171049Z"
    }
   },
   "outputs": [],
   "source": [
    "def create_tensorboard(expname,net) :\n",
    "    writer = SummaryWriter(os.path.join(path_tensorboard,expname))\n",
    "    writer.add_graph(net,torch.rand(1,3,1,1))\n",
    "    for name,p in net.named_parameters() :\n",
    "        n = name.split('.')\n",
    "        if len(n) == 3 :\n",
    "            writer.add_histogram(n[0]+'_'+n[1]+'/'+n[2],p)\n",
    "        if len(n) == 2 :\n",
    "             writer.add_histogram(n[0]+'/'+n[1],p)"
   ]
  },
  {
   "cell_type": "code",
   "execution_count": 6,
   "metadata": {
    "ExecuteTime": {
     "end_time": "2019-07-20T02:22:39.827755Z",
     "start_time": "2019-07-20T02:22:39.818103Z"
    }
   },
   "outputs": [],
   "source": [
    "def save_model_pt(net,name) :\n",
    "    '''\n",
    "    Take the loaded model and save it as a .pt file in the \n",
    "    '''\n",
    "    torch.save(net,name.replace('.tar','.pt'))"
   ]
  },
  {
   "cell_type": "code",
   "execution_count": 9,
   "metadata": {
    "ExecuteTime": {
     "end_time": "2019-07-20T02:23:08.916065Z",
     "start_time": "2019-07-20T02:23:08.882403Z"
    }
   },
   "outputs": [
    {
     "data": {
      "text/plain": [
       "['/usr/lib/python36.zip',\n",
       " '/usr/lib/python3.6',\n",
       " '/usr/lib/python3.6/lib-dynload',\n",
       " '',\n",
       " '/home/etienne/.local/lib/python3.6/site-packages',\n",
       " '/usr/local/lib/python3.6/dist-packages',\n",
       " '/usr/lib/python3/dist-packages',\n",
       " '/home/etienne/.local/lib/python3.6/site-packages/IPython/extensions',\n",
       " '/home/etienne/.ipython']"
      ]
     },
     "execution_count": 9,
     "metadata": {},
     "output_type": "execute_result"
    }
   ],
   "source": [
    "sys.path"
   ]
  },
  {
   "cell_type": "markdown",
   "metadata": {},
   "source": [
    "# Launch"
   ]
  },
  {
   "cell_type": "code",
   "execution_count": 8,
   "metadata": {
    "ExecuteTime": {
     "end_time": "2019-07-20T02:22:45.023299Z",
     "start_time": "2019-07-20T02:22:44.896756Z"
    }
   },
   "outputs": [
    {
     "data": {
      "application/vnd.jupyter.widget-view+json": {
       "model_id": "2cbfaea92e0a41bdaeb733bafd7acb42",
       "version_major": 2,
       "version_minor": 0
      },
      "text/plain": [
       "interactive(children=(Dropdown(description='exp', options=('test_2_Sigmoid', 'train_2_SPN_vgg16', 'train_3_old…"
      ]
     },
     "metadata": {},
     "output_type": "display_data"
    }
   ],
   "source": [
    "@interact_manual\n",
    "def load_experiments(exp=os.listdir(path_folder)):\n",
    "    global net\n",
    "    expname = exp\n",
    "    net, filename = load_model(expname)\n",
    "    save_model_pt(net,os.path.join(path_folder,expname,'models',filename))\n",
    "    create_tensorboard(expname,net)"
   ]
  },
  {
   "cell_type": "markdown",
   "metadata": {},
   "source": [
    "# Save all model pt at once"
   ]
  },
  {
   "cell_type": "code",
   "execution_count": 11,
   "metadata": {
    "ExecuteTime": {
     "end_time": "2019-07-20T02:14:29.150613Z",
     "start_time": "2019-07-20T02:14:15.300830Z"
    }
   },
   "outputs": [
    {
     "name": "stdout",
     "output_type": "stream",
     "text": [
      "Loading : test_2_Sigmoid\n",
      "Failed\n",
      "Loading : train_2_SPN_vgg16\n",
      "Failed\n",
      "Loading : train_3_old_SPN_3_pooling\n",
      "Failed\n",
      "Loading : test_SPN_8\n",
      "Failed\n",
      "Loading : test_loss\n",
      "Failed\n",
      "Loading : mini_test_SPN_1\n",
      "Failed\n",
      "Loading : mini_test_Resnet_d1\n",
      "Failed\n",
      "Loading : train_1_resnet_34_freeze\n",
      "Failed\n",
      "Loading : test_12\n",
      "Loading : train_3_old_SPN_3_pooling_256_size\n",
      "Failed\n",
      "Loading : te2\n",
      "Failed\n",
      "Loading : test_Sigmoid\n",
      "Failed\n",
      "Loading : train_1_SPN_3_pooling_32_size_unfreeze_dropout1\n",
      "Failed\n",
      "Loading : test_BCEwithlogits\n",
      "Failed\n",
      "Loading : test_tensorboard_1\n",
      "Failed\n",
      "Loading : train_3_old_SPN_3_pooling_128_size\n",
      "Failed\n",
      "Loading : test_blade\n"
     ]
    },
    {
     "name": "stderr",
     "output_type": "stream",
     "text": [
      "ERROR:root:Internal Python error in the inspect module.\n",
      "Below is the traceback from this internal error.\n",
      "\n"
     ]
    },
    {
     "name": "stdout",
     "output_type": "stream",
     "text": [
      "Traceback (most recent call last):\n",
      "  File \"/home/etienne/.local/lib/python3.6/site-packages/IPython/core/interactiveshell.py\", line 3267, in run_code\n",
      "    exec(code_obj, self.user_global_ns, self.user_ns)\n",
      "  File \"<ipython-input-11-ec2b23e6e8bc>\", line 4, in <module>\n",
      "    net, filename = load_model(expname)\n",
      "  File \"<ipython-input-3-d337be22850c>\", line 11, in load_model\n",
      "    net = SPN()\n",
      "  File \"/home/etienne/Desktop/Shark_Detector/Models/SPN/experiments/train_1_SPN_3_pooling_resnet34_256_size_unfreeze/code/sample/SPN.py\", line 14, in __init__\n",
      "    self.d1 = nn.Linear(int(512*(1+(4*(pyramid_levels-1)*pyramid_levels*(2*(pyramid_levels-1)+1))/6)), 2048)# http://villemin.gerard.free.fr/Wwwgvmm/Identite/SomDemo.htm\n",
      "  File \"/usr/local/lib/python3.6/dist-packages/torch/nn/modules/linear.py\", line 81, in __init__\n",
      "    self.reset_parameters()\n",
      "  File \"/usr/local/lib/python3.6/dist-packages/torch/nn/modules/linear.py\", line 84, in reset_parameters\n",
      "    init.kaiming_uniform_(self.weight, a=math.sqrt(5))\n",
      "  File \"/usr/local/lib/python3.6/dist-packages/torch/nn/init.py\", line 328, in kaiming_uniform_\n",
      "    return tensor.uniform_(-bound, bound)\n",
      "KeyboardInterrupt\n",
      "\n",
      "During handling of the above exception, another exception occurred:\n",
      "\n",
      "Traceback (most recent call last):\n",
      "  File \"/home/etienne/.local/lib/python3.6/site-packages/IPython/core/interactiveshell.py\", line 2018, in showtraceback\n",
      "    stb = value._render_traceback_()\n",
      "AttributeError: 'KeyboardInterrupt' object has no attribute '_render_traceback_'\n",
      "\n",
      "During handling of the above exception, another exception occurred:\n",
      "\n",
      "Traceback (most recent call last):\n",
      "  File \"/home/etienne/.local/lib/python3.6/site-packages/IPython/core/ultratb.py\", line 1095, in get_records\n",
      "    return _fixed_getinnerframes(etb, number_of_lines_of_context, tb_offset)\n",
      "  File \"/home/etienne/.local/lib/python3.6/site-packages/IPython/core/ultratb.py\", line 313, in wrapped\n",
      "    return f(*args, **kwargs)\n",
      "  File \"/home/etienne/.local/lib/python3.6/site-packages/IPython/core/ultratb.py\", line 347, in _fixed_getinnerframes\n",
      "    records = fix_frame_records_filenames(inspect.getinnerframes(etb, context))\n",
      "  File \"/usr/lib/python3.6/inspect.py\", line 1490, in getinnerframes\n",
      "    frameinfo = (tb.tb_frame,) + getframeinfo(tb, context)\n",
      "  File \"/usr/lib/python3.6/inspect.py\", line 1448, in getframeinfo\n",
      "    filename = getsourcefile(frame) or getfile(frame)\n",
      "  File \"/usr/lib/python3.6/inspect.py\", line 696, in getsourcefile\n",
      "    if getattr(getmodule(object, filename), '__loader__', None) is not None:\n",
      "  File \"/usr/lib/python3.6/inspect.py\", line 733, in getmodule\n",
      "    if ismodule(module) and hasattr(module, '__file__'):\n",
      "  File \"/usr/lib/python3.6/inspect.py\", line 71, in ismodule\n",
      "    return isinstance(object, types.ModuleType)\n",
      "KeyboardInterrupt\n"
     ]
    },
    {
     "ename": "KeyboardInterrupt",
     "evalue": "",
     "output_type": "error",
     "traceback": [
      "\u001b[0;31m---------------------------------------------------------------------------\u001b[0m"
     ]
    }
   ],
   "source": [
    "for expname in os.listdir(path_folder) :\n",
    "    %autoreload\n",
    "    try :\n",
    "        net, filename = load_model(expname)\n",
    "        save_model_pt(net,os.path.join(path_folder,expname,'models',filename))\n",
    "    except Exception as e :\n",
    "        print('Failed')"
   ]
  }
 ],
 "metadata": {
  "kernelspec": {
   "display_name": "Python 3",
   "language": "python",
   "name": "python3"
  },
  "language_info": {
   "codemirror_mode": {
    "name": "ipython",
    "version": 3
   },
   "file_extension": ".py",
   "mimetype": "text/x-python",
   "name": "python",
   "nbconvert_exporter": "python",
   "pygments_lexer": "ipython3",
   "version": "3.6.8"
  }
 },
 "nbformat": 4,
 "nbformat_minor": 2
}
