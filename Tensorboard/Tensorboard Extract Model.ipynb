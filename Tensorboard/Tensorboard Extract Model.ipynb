{
 "cells": [
  {
   "cell_type": "code",
   "execution_count": 1,
   "metadata": {
    "ExecuteTime": {
     "end_time": "2019-09-09T19:34:07.914566Z",
     "start_time": "2019-09-09T19:34:07.901817Z"
    }
   },
   "outputs": [],
   "source": [
    " %load_ext autoreload"
   ]
  },
  {
   "cell_type": "code",
   "execution_count": 2,
   "metadata": {
    "ExecuteTime": {
     "end_time": "2019-09-09T19:34:10.001973Z",
     "start_time": "2019-09-09T19:34:09.057619Z"
    }
   },
   "outputs": [
    {
     "name": "stderr",
     "output_type": "stream",
     "text": [
      "/usr/local/lib/python3.6/dist-packages/tensorboard/compat/tensorflow_stub/dtypes.py:541: FutureWarning: Passing (type, 1) or '1type' as a synonym of type is deprecated; in a future version of numpy, it will be understood as (type, (1,)) / '(1,)type'.\n",
      "  _np_qint8 = np.dtype([(\"qint8\", np.int8, 1)])\n",
      "/usr/local/lib/python3.6/dist-packages/tensorboard/compat/tensorflow_stub/dtypes.py:542: FutureWarning: Passing (type, 1) or '1type' as a synonym of type is deprecated; in a future version of numpy, it will be understood as (type, (1,)) / '(1,)type'.\n",
      "  _np_quint8 = np.dtype([(\"quint8\", np.uint8, 1)])\n",
      "/usr/local/lib/python3.6/dist-packages/tensorboard/compat/tensorflow_stub/dtypes.py:543: FutureWarning: Passing (type, 1) or '1type' as a synonym of type is deprecated; in a future version of numpy, it will be understood as (type, (1,)) / '(1,)type'.\n",
      "  _np_qint16 = np.dtype([(\"qint16\", np.int16, 1)])\n",
      "/usr/local/lib/python3.6/dist-packages/tensorboard/compat/tensorflow_stub/dtypes.py:544: FutureWarning: Passing (type, 1) or '1type' as a synonym of type is deprecated; in a future version of numpy, it will be understood as (type, (1,)) / '(1,)type'.\n",
      "  _np_quint16 = np.dtype([(\"quint16\", np.uint16, 1)])\n",
      "/usr/local/lib/python3.6/dist-packages/tensorboard/compat/tensorflow_stub/dtypes.py:545: FutureWarning: Passing (type, 1) or '1type' as a synonym of type is deprecated; in a future version of numpy, it will be understood as (type, (1,)) / '(1,)type'.\n",
      "  _np_qint32 = np.dtype([(\"qint32\", np.int32, 1)])\n",
      "/usr/local/lib/python3.6/dist-packages/tensorboard/compat/tensorflow_stub/dtypes.py:550: FutureWarning: Passing (type, 1) or '1type' as a synonym of type is deprecated; in a future version of numpy, it will be understood as (type, (1,)) / '(1,)type'.\n",
      "  np_resource = np.dtype([(\"resource\", np.ubyte, 1)])\n"
     ]
    }
   ],
   "source": [
    "import torch\n",
    "import torchvision\n",
    "from torch.utils.tensorboard import SummaryWriter\n",
    "from torchvision import datasets,transforms\n",
    "import numpy as np\n",
    "import matplotlib.pyplot as plt\n",
    "import os\n",
    "import re\n",
    "import sys\n",
    "import glob\n",
    "import ipywidgets as widgets\n",
    "from ipywidgets import interact, interact_manual\n",
    "from visdom import Visdom"
   ]
  },
  {
   "cell_type": "markdown",
   "metadata": {},
   "source": [
    "# Function"
   ]
  },
  {
   "cell_type": "code",
   "execution_count": 3,
   "metadata": {
    "ExecuteTime": {
     "end_time": "2019-09-09T19:34:10.160536Z",
     "start_time": "2019-09-09T19:34:10.153201Z"
    }
   },
   "outputs": [],
   "source": [
    "path_folder = '/home/etienne/Dropbox/experiments'\n",
    "path_tensorboard = '/home/etienne/Dropbox/Tensorboard'"
   ]
  },
  {
   "cell_type": "code",
   "execution_count": 4,
   "metadata": {
    "ExecuteTime": {
     "end_time": "2019-09-09T19:34:10.886885Z",
     "start_time": "2019-09-09T19:34:10.864680Z"
    }
   },
   "outputs": [],
   "source": [
    "def load_model(expname) :\n",
    "    print('Loading : {}'.format(expname))\n",
    "    pattern = '(?<=epoch_)(\\d+)'\n",
    "    natural_keys = lambda s: int(re.search(pattern, s).group(0))\n",
    "    files = glob.glob(os.path.join(path_folder,expname,'models')+'/*.tar')\n",
    "    files.sort(key=natural_keys)\n",
    "    filename = files[-1]\n",
    "    checkpoint = torch.load(os.path.join(path_folder,expname,'models',filename))\n",
    "    print(os.path.join(path_folder,expname,'sample'))\n",
    "    sys.path.insert(0,os.path.join(path_folder,expname,'sample'))\n",
    "    try : \n",
    "        from nets.SPN import SPN\n",
    "        net = SPN()\n",
    "        net.load_state_dict(checkpoint['model'])\n",
    "    except Exception as e :\n",
    "        print(\"Didn't load {} : {}\".format(expname,e))\n",
    "        pass\n",
    "    #sys.path.remove(os.path.join(path_folder,expname,'code','sample'))\n",
    "    return net, filename"
   ]
  },
  {
   "cell_type": "code",
   "execution_count": null,
   "metadata": {},
   "outputs": [],
   "source": []
  },
  {
   "cell_type": "code",
   "execution_count": 21,
   "metadata": {
    "ExecuteTime": {
     "end_time": "2019-09-09T19:39:40.121602Z",
     "start_time": "2019-09-09T19:39:40.114604Z"
    }
   },
   "outputs": [],
   "source": [
    "def create_tensorboard(expname,net) :\n",
    "    writer = SummaryWriter(os.path.join(path_tensorboard,expname))\n",
    "    writer.add_graph(net,torch.rand(1,3,1,1).to('cuda:0'))\n",
    "    for name,p in net.named_parameters() :\n",
    "        n = name.split('.')\n",
    "        if len(n) == 3 :\n",
    "            writer.add_histogram(n[0]+'_'+n[1]+'/'+n[2],p)\n",
    "        if len(n) == 2 :\n",
    "             writer.add_histogram(n[0]+'/'+n[1],p)"
   ]
  },
  {
   "cell_type": "code",
   "execution_count": 6,
   "metadata": {
    "ExecuteTime": {
     "end_time": "2019-09-09T19:34:12.869195Z",
     "start_time": "2019-09-09T19:34:12.865623Z"
    }
   },
   "outputs": [],
   "source": [
    "def save_model_pt(net,name) :\n",
    "    '''\n",
    "    Take the loaded model and save it as a .pt file in the \n",
    "    '''\n",
    "    torch.save(net,name.replace('.tar','.pt'))"
   ]
  },
  {
   "cell_type": "code",
   "execution_count": 8,
   "metadata": {
    "ExecuteTime": {
     "end_time": "2019-09-09T19:35:09.462885Z",
     "start_time": "2019-09-09T19:35:09.459779Z"
    }
   },
   "outputs": [],
   "source": [
    "sys.path.insert(0,'/home/etienne/Dropbox/experiments/train_Resnet34_256_RetinaDatasetClassif_Freeze_48_bn_dr/sample')"
   ]
  },
  {
   "cell_type": "code",
   "execution_count": 9,
   "metadata": {
    "ExecuteTime": {
     "end_time": "2019-09-09T19:35:44.784095Z",
     "start_time": "2019-09-09T19:35:44.517430Z"
    }
   },
   "outputs": [],
   "source": [
    "m = torch.load('/home/etienne/Dropbox/experiments/train_Resnet34_256_RetinaDatasetClassif_Freeze_48_bn_dr/models/train_Resnet34_256_RetinaDatasetClassif_Freeze_48_bn_dr_full_model.pt')"
   ]
  },
  {
   "cell_type": "code",
   "execution_count": 24,
   "metadata": {
    "ExecuteTime": {
     "end_time": "2019-09-09T20:13:12.719237Z",
     "start_time": "2019-09-09T20:13:12.714144Z"
    }
   },
   "outputs": [
    {
     "data": {
      "text/plain": [
       "Sequential(\n",
       "  (dr1): Dropout(p=0.5)\n",
       "  (d1): Linear(in_features=10752, out_features=2048, bias=True)\n",
       "  (bn1): BatchNorm1d(2048, eps=1e-05, momentum=0.1, affine=True, track_running_stats=True)\n",
       "  (relu1): ReLU()\n",
       "  (dr2): Dropout(p=0.5)\n",
       "  (d2): Linear(in_features=2048, out_features=1, bias=True)\n",
       ")"
      ]
     },
     "execution_count": 24,
     "metadata": {},
     "output_type": "execute_result"
    }
   ],
   "source": [
    "m.classifier"
   ]
  },
  {
   "cell_type": "code",
   "execution_count": 22,
   "metadata": {
    "ExecuteTime": {
     "end_time": "2019-09-09T19:39:46.536879Z",
     "start_time": "2019-09-09T19:39:44.199147Z"
    }
   },
   "outputs": [
    {
     "name": "stderr",
     "output_type": "stream",
     "text": [
      "/usr/local/lib/python3.6/dist-packages/torch/onnx/symbolic.py:173: UserWarning: ONNX export failed on adaptive_max_pool2d because output size that are not factor of input size not supported\n",
      "  warnings.warn(\"ONNX export failed on \" + op + \" because \" + msg + \" not supported\")\n"
     ]
    }
   ],
   "source": [
    "create_tensorboard('train_Resnet34_256_RetinaDatasetClassif_Freeze_48_bn_dr',m)"
   ]
  },
  {
   "cell_type": "markdown",
   "metadata": {},
   "source": [
    "# Launch"
   ]
  },
  {
   "cell_type": "code",
   "execution_count": 7,
   "metadata": {
    "ExecuteTime": {
     "end_time": "2019-09-09T19:34:14.663994Z",
     "start_time": "2019-09-09T19:34:14.621279Z"
    }
   },
   "outputs": [
    {
     "data": {
      "application/vnd.jupyter.widget-view+json": {
       "model_id": "1e287abf8ef54a62aa76aa4010e82851",
       "version_major": 2,
       "version_minor": 0
      },
      "text/plain": [
       "interactive(children=(Dropdown(description='exp', options=('train_resnet34_full_size_mfreeze_108_pretrained_cr…"
      ]
     },
     "metadata": {},
     "output_type": "display_data"
    }
   ],
   "source": [
    "@interact_manual\n",
    "def load_experiments(exp=os.listdir(path_folder)):\n",
    "    global net\n",
    "    expname = exp\n",
    "    print(expname)\n",
    "    net, filename = load_model(expname)\n",
    "    save_model_pt(net,os.path.join(path_folder,expname,'models',filename))\n",
    "    create_tensorboard(expname,net)"
   ]
  },
  {
   "cell_type": "markdown",
   "metadata": {},
   "source": [
    "# Save all model pt at once"
   ]
  },
  {
   "cell_type": "code",
   "execution_count": 7,
   "metadata": {
    "ExecuteTime": {
     "end_time": "2019-07-20T02:26:11.795209Z",
     "start_time": "2019-07-20T02:23:57.594316Z"
    }
   },
   "outputs": [
    {
     "name": "stdout",
     "output_type": "stream",
     "text": [
      "Loading : test_2_Sigmoid\n",
      "Failed\n",
      "Loading : train_2_SPN_vgg16\n",
      "Loading : train_3_old_SPN_3_pooling\n",
      "Loading : test_SPN_8\n",
      "Failed\n",
      "Loading : test_loss\n",
      "Failed\n",
      "Loading : mini_test_SPN_1\n",
      "Loading : mini_test_Resnet_d1\n",
      "Failed\n",
      "Loading : train_1_resnet_34_freeze\n",
      "Loading : test_12\n",
      "Loading : train_3_old_SPN_3_pooling_256_size\n",
      "Loading : te2\n",
      "Failed\n",
      "Loading : test_Sigmoid\n"
     ]
    },
    {
     "name": "stderr",
     "output_type": "stream",
     "text": [
      "/usr/local/lib/python3.6/dist-packages/torch/serialization.py:454: SourceChangeWarning: source code of class 'SPN.SPN' has changed. you can retrieve the original source code by accessing the object's source attribute or set `torch.nn.Module.dump_patches = True` and use the patch tool to revert the changes.\n",
      "  warnings.warn(msg, SourceChangeWarning)\n"
     ]
    },
    {
     "name": "stdout",
     "output_type": "stream",
     "text": [
      "Loading : train_1_SPN_3_pooling_32_size_unfreeze_dropout1\n",
      "Loading : test_BCEwithlogits\n",
      "Failed\n",
      "Loading : test_tensorboard_1\n",
      "Failed\n",
      "Loading : train_3_old_SPN_3_pooling_128_size\n",
      "Loading : test_blade\n",
      "Loading : train_SPN_vgg16_1_mi_freeze\n",
      "Loading : test_plotly_2\n",
      "Loading : experimentation_vgg16_size32_2\n",
      "Failed\n",
      "Loading : experimentation_resnet34_size32\n",
      "Loading : train_1_Resnet50_256_size_pretrained_freeze\n",
      "Loading : mini_test_dumbnet_1\n",
      "Failed\n",
      "Loading : train_3_old_SPN_3_pooling_32_size\n",
      "Loading : train_1_SPN_3_pooling_256_size_unfreeze_batch_norm\n",
      "Loading : mini_test_resnet_2\n",
      "Loading : test_tensorboard_3\n",
      "Loading : test_dumb_8\n",
      "Loading : pos_weight_test\n",
      "Loading : mini_test_SPP_d4\n",
      "Loading : test_features_8\n",
      "Failed\n",
      "Loading : experimentation_vgg16_size32\n",
      "Loading : experimentation_vgg16_size32_3\n",
      "Loading : train_1_SPN_3_pooling_32_size\n",
      "Loading : train_1_SPN_3_pooling_256_size_CLR\n",
      "Failed\n",
      "Loading : train_1_SPN_3_pooling_256_size\n",
      "Loading : SharkDetector_test_Histogram\n",
      "Loading : train_1_old_SPN_vgg16\n",
      "Loading : test_dumb_7\n",
      "Loading : train_1_SPN_3_pooling_resnet_256_size_unfreeze\n",
      "Loading : train_1_SPN_3_pooling_resnet34_512_size_unfreeze\n",
      "Loading : train_2_old_SPN_3_pooling\n",
      "Loading : train_SPN_vgg16\n",
      "Loading : training_no_shuffle_1\n",
      "Loading : experimentation_resnet\n",
      "Loading : test_plotly_1\n",
      "Loading : mini_test_Resnet_d2\n",
      "Loading : test_res_12\n",
      "Loading : test_features_7\n",
      "Loading : train_1_SPN_3_pooling_32_size_unfreeze\n",
      "Loading : train_3_old_SPN_3_pooling_64_size\n",
      "Loading : train_1_SPN_3_pooling_256_size_unfreeze\n",
      "Loading : test_tensorboard_2\n",
      "Loading : test_Dense_1\n",
      "Failed\n",
      "Loading : train_1_SPN_3_pooling_resnet34_256_size_unfreeze\n"
     ]
    }
   ],
   "source": [
    "for expname in os.listdir(path_folder) :\n",
    "    %autoreload\n",
    "    try :\n",
    "        net, filename = load_model(expname)\n",
    "        save_model_pt(net,os.path.join(path_folder,expname,'models',filename))\n",
    "    except Exception as e :\n",
    "        print('Failed')"
   ]
  }
 ],
 "metadata": {
  "kernelspec": {
   "display_name": "Python 3",
   "language": "python",
   "name": "python3"
  },
  "language_info": {
   "codemirror_mode": {
    "name": "ipython",
    "version": 3
   },
   "file_extension": ".py",
   "mimetype": "text/x-python",
   "name": "python",
   "nbconvert_exporter": "python",
   "pygments_lexer": "ipython3",
   "version": "3.6.8"
  }
 },
 "nbformat": 4,
 "nbformat_minor": 2
}
