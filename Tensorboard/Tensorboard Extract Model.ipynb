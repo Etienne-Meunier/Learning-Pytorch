{
 "cells": [
  {
   "cell_type": "code",
   "execution_count": 1,
   "metadata": {
    "ExecuteTime": {
     "end_time": "2019-07-20T02:23:49.323087Z",
     "start_time": "2019-07-20T02:23:49.287018Z"
    }
   },
   "outputs": [],
   "source": [
    " %load_ext autoreload"
   ]
  },
  {
   "cell_type": "code",
   "execution_count": 2,
   "metadata": {
    "ExecuteTime": {
     "end_time": "2019-07-20T02:23:51.453581Z",
     "start_time": "2019-07-20T02:23:49.852993Z"
    }
   },
   "outputs": [],
   "source": [
    "import torch\n",
    "import torchvision\n",
    "from torch.utils.tensorboard import SummaryWriter\n",
    "from torchvision import datasets,transforms\n",
    "import numpy as np\n",
    "import matplotlib.pyplot as plt\n",
    "import os\n",
    "import re\n",
    "import sys\n",
    "import ipywidgets as widgets\n",
    "from ipywidgets import interact, interact_manual\n",
    "from visdom import Visdom"
   ]
  },
  {
   "cell_type": "markdown",
   "metadata": {},
   "source": [
    "# Function"
   ]
  },
  {
   "cell_type": "code",
   "execution_count": 3,
   "metadata": {
    "ExecuteTime": {
     "end_time": "2019-07-20T02:23:51.459079Z",
     "start_time": "2019-07-20T02:23:51.456090Z"
    }
   },
   "outputs": [],
   "source": [
    "path_folder = '/home/etienne/Desktop/Shark_Detector/Models/SPN/experiments'\n",
    "path_tensorboard = '/home/etienne/Desktop/Shark_Detector/Tensorboard'"
   ]
  },
  {
   "cell_type": "code",
   "execution_count": 4,
   "metadata": {
    "ExecuteTime": {
     "end_time": "2019-07-20T02:23:51.717091Z",
     "start_time": "2019-07-20T02:23:51.668312Z"
    }
   },
   "outputs": [],
   "source": [
    "def load_model(expname) :\n",
    "    print('Loading : {}'.format(expname))\n",
    "    pattern = '(?<=epoch_)(\\d+)'\n",
    "    natural_keys = lambda s: int(re.search(pattern, s).group(0))\n",
    "    files = os.listdir(os.path.join(path_folder,expname,'models/'))\n",
    "    files.sort(key=natural_keys)\n",
    "    filename = files[-1]\n",
    "    checkpoint = torch.load(os.path.join(path_folder,expname,'models',filename))\n",
    "    sys.path.insert(0,os.path.join(path_folder,expname,'code','sample'))\n",
    "    try : \n",
    "        from SPN import SPN\n",
    "        net = SPN()\n",
    "        net.load_state_dict(checkpoint['model'])\n",
    "    except :\n",
    "        pass\n",
    "    sys.path.remove(os.path.join(path_folder,expname,'code','sample'))\n",
    "    return net, filename"
   ]
  },
  {
   "cell_type": "code",
   "execution_count": 5,
   "metadata": {
    "ExecuteTime": {
     "end_time": "2019-07-20T02:23:52.971458Z",
     "start_time": "2019-07-20T02:23:52.956449Z"
    }
   },
   "outputs": [],
   "source": [
    "def create_tensorboard(expname,net) :\n",
    "    writer = SummaryWriter(os.path.join(path_tensorboard,expname))\n",
    "    writer.add_graph(net,torch.rand(1,3,1,1))\n",
    "    for name,p in net.named_parameters() :\n",
    "        n = name.split('.')\n",
    "        if len(n) == 3 :\n",
    "            writer.add_histogram(n[0]+'_'+n[1]+'/'+n[2],p)\n",
    "        if len(n) == 2 :\n",
    "             writer.add_histogram(n[0]+'/'+n[1],p)"
   ]
  },
  {
   "cell_type": "code",
   "execution_count": 6,
   "metadata": {
    "ExecuteTime": {
     "end_time": "2019-07-20T02:23:53.518740Z",
     "start_time": "2019-07-20T02:23:53.510385Z"
    }
   },
   "outputs": [],
   "source": [
    "def save_model_pt(net,name) :\n",
    "    '''\n",
    "    Take the loaded model and save it as a .pt file in the \n",
    "    '''\n",
    "    torch.save(net,name.replace('.tar','.pt'))"
   ]
  },
  {
   "cell_type": "markdown",
   "metadata": {},
   "source": [
    "# Launch"
   ]
  },
  {
   "cell_type": "code",
   "execution_count": 8,
   "metadata": {
    "ExecuteTime": {
     "end_time": "2019-07-20T02:22:45.023299Z",
     "start_time": "2019-07-20T02:22:44.896756Z"
    }
   },
   "outputs": [
    {
     "data": {
      "application/vnd.jupyter.widget-view+json": {
       "model_id": "2cbfaea92e0a41bdaeb733bafd7acb42",
       "version_major": 2,
       "version_minor": 0
      },
      "text/plain": [
       "interactive(children=(Dropdown(description='exp', options=('test_2_Sigmoid', 'train_2_SPN_vgg16', 'train_3_old…"
      ]
     },
     "metadata": {},
     "output_type": "display_data"
    }
   ],
   "source": [
    "@interact_manual\n",
    "def load_experiments(exp=os.listdir(path_folder)):\n",
    "    global net\n",
    "    expname = exp\n",
    "    net, filename = load_model(expname)\n",
    "    save_model_pt(net,os.path.join(path_folder,expname,'models',filename))\n",
    "    create_tensorboard(expname,net)"
   ]
  },
  {
   "cell_type": "markdown",
   "metadata": {},
   "source": [
    "# Save all model pt at once"
   ]
  },
  {
   "cell_type": "code",
   "execution_count": 7,
   "metadata": {
    "ExecuteTime": {
     "end_time": "2019-07-20T02:26:11.795209Z",
     "start_time": "2019-07-20T02:23:57.594316Z"
    }
   },
   "outputs": [
    {
     "name": "stdout",
     "output_type": "stream",
     "text": [
      "Loading : test_2_Sigmoid\n",
      "Failed\n",
      "Loading : train_2_SPN_vgg16\n",
      "Loading : train_3_old_SPN_3_pooling\n",
      "Loading : test_SPN_8\n",
      "Failed\n",
      "Loading : test_loss\n",
      "Failed\n",
      "Loading : mini_test_SPN_1\n",
      "Loading : mini_test_Resnet_d1\n",
      "Failed\n",
      "Loading : train_1_resnet_34_freeze\n",
      "Loading : test_12\n",
      "Loading : train_3_old_SPN_3_pooling_256_size\n",
      "Loading : te2\n",
      "Failed\n",
      "Loading : test_Sigmoid\n"
     ]
    },
    {
     "name": "stderr",
     "output_type": "stream",
     "text": [
      "/usr/local/lib/python3.6/dist-packages/torch/serialization.py:454: SourceChangeWarning: source code of class 'SPN.SPN' has changed. you can retrieve the original source code by accessing the object's source attribute or set `torch.nn.Module.dump_patches = True` and use the patch tool to revert the changes.\n",
      "  warnings.warn(msg, SourceChangeWarning)\n"
     ]
    },
    {
     "name": "stdout",
     "output_type": "stream",
     "text": [
      "Loading : train_1_SPN_3_pooling_32_size_unfreeze_dropout1\n",
      "Loading : test_BCEwithlogits\n",
      "Failed\n",
      "Loading : test_tensorboard_1\n",
      "Failed\n",
      "Loading : train_3_old_SPN_3_pooling_128_size\n",
      "Loading : test_blade\n",
      "Loading : train_SPN_vgg16_1_mi_freeze\n",
      "Loading : test_plotly_2\n",
      "Loading : experimentation_vgg16_size32_2\n",
      "Failed\n",
      "Loading : experimentation_resnet34_size32\n",
      "Loading : train_1_Resnet50_256_size_pretrained_freeze\n",
      "Loading : mini_test_dumbnet_1\n",
      "Failed\n",
      "Loading : train_3_old_SPN_3_pooling_32_size\n",
      "Loading : train_1_SPN_3_pooling_256_size_unfreeze_batch_norm\n",
      "Loading : mini_test_resnet_2\n",
      "Loading : test_tensorboard_3\n",
      "Loading : test_dumb_8\n",
      "Loading : pos_weight_test\n",
      "Loading : mini_test_SPP_d4\n",
      "Loading : test_features_8\n",
      "Failed\n",
      "Loading : experimentation_vgg16_size32\n",
      "Loading : experimentation_vgg16_size32_3\n",
      "Loading : train_1_SPN_3_pooling_32_size\n",
      "Loading : train_1_SPN_3_pooling_256_size_CLR\n",
      "Failed\n",
      "Loading : train_1_SPN_3_pooling_256_size\n",
      "Loading : SharkDetector_test_Histogram\n",
      "Loading : train_1_old_SPN_vgg16\n",
      "Loading : test_dumb_7\n",
      "Loading : train_1_SPN_3_pooling_resnet_256_size_unfreeze\n",
      "Loading : train_1_SPN_3_pooling_resnet34_512_size_unfreeze\n",
      "Loading : train_2_old_SPN_3_pooling\n",
      "Loading : train_SPN_vgg16\n",
      "Loading : training_no_shuffle_1\n",
      "Loading : experimentation_resnet\n",
      "Loading : test_plotly_1\n",
      "Loading : mini_test_Resnet_d2\n",
      "Loading : test_res_12\n",
      "Loading : test_features_7\n",
      "Loading : train_1_SPN_3_pooling_32_size_unfreeze\n",
      "Loading : train_3_old_SPN_3_pooling_64_size\n",
      "Loading : train_1_SPN_3_pooling_256_size_unfreeze\n",
      "Loading : test_tensorboard_2\n",
      "Loading : test_Dense_1\n",
      "Failed\n",
      "Loading : train_1_SPN_3_pooling_resnet34_256_size_unfreeze\n"
     ]
    }
   ],
   "source": [
    "for expname in os.listdir(path_folder) :\n",
    "    %autoreload\n",
    "    try :\n",
    "        net, filename = load_model(expname)\n",
    "        save_model_pt(net,os.path.join(path_folder,expname,'models',filename))\n",
    "    except Exception as e :\n",
    "        print('Failed')"
   ]
  }
 ],
 "metadata": {
  "kernelspec": {
   "display_name": "Python 3",
   "language": "python",
   "name": "python3"
  },
  "language_info": {
   "codemirror_mode": {
    "name": "ipython",
    "version": 3
   },
   "file_extension": ".py",
   "mimetype": "text/x-python",
   "name": "python",
   "nbconvert_exporter": "python",
   "pygments_lexer": "ipython3",
   "version": "3.6.8"
  }
 },
 "nbformat": 4,
 "nbformat_minor": 2
}
